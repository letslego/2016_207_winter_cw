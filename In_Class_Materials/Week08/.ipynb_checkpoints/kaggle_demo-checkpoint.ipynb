{
 "cells": [
  {
   "cell_type": "markdown",
   "metadata": {},
   "source": [
    "# Kaggle comp demo"
   ]
  },
  {
   "cell_type": "code",
   "execution_count": 1,
   "metadata": {
    "collapsed": true
   },
   "outputs": [],
   "source": [
    "# This tells matplotlib not to try opening a new window for each plot.\n",
    "%matplotlib inline\n",
    "\n",
    "# General libraries.\n",
    "import numpy as np\n",
    "import matplotlib.pyplot as plt\n",
    "\n",
    "# SK-learn libraries for learning.\n",
    "from sklearn.pipeline import Pipeline\n",
    "from sklearn.neighbors import KNeighborsClassifier\n",
    "from sklearn.grid_search import GridSearchCV\n",
    "\n",
    "# SK-learn libraries for evaluation.\n",
    "from sklearn.metrics import confusion_matrix\n",
    "from sklearn import metrics\n",
    "from sklearn.metrics import classification_report"
   ]
  },
  {
   "cell_type": "markdown",
   "metadata": {},
   "source": [
    "Let's talk about how to enter a kaggle competition.\n",
    "Frist you sign up for kaggle.\n",
    "\n",
    "https://www.kaggle.com\n",
    "\n",
    "then, you find a competition. We'll use the MNIST digit data set!\n",
    "\n",
    "https://www.kaggle.com/c/digit-recognizer\n",
    "\n",
    "We now have a couple of csv files, test.csv, and train.csv\n",
    "\n",
    "Find where they live on your file system, and now we need to load the data:"
   ]
  },
  {
   "cell_type": "code",
   "execution_count": 2,
   "metadata": {
    "collapsed": false
   },
   "outputs": [
    {
     "name": "stdout",
     "output_type": "stream",
     "text": [
      "(28000, 784)\n"
     ]
    }
   ],
   "source": [
    "ff = \"/Users/dancsi/Downloads/train.csv\" # you will need to edit this directory\n",
    "f = open(ff)\n",
    "column_names = f.readline() # you'd needs this ordinarily\n",
    "\n",
    "data = np.loadtxt(f, delimiter=\",\")\n",
    "\n",
    "y, X = data[:, :1], data[:, 1:]\n",
    "\n",
    "ff_test = \"/Users/dancsi/Downloads/test.csv\" # you will need to edit this directory\n",
    "f_test = open(ff_test)\n",
    "column_names_test = f_test.readline() # you'd needs this ordinarily\n",
    "\n",
    "data_test = np.loadtxt(f_test, delimiter=\",\")\n",
    "\n",
    "# note there are no labels here!\n",
    "X_test = data_test\n",
    "\n",
    "print X_test.shape"
   ]
  },
  {
   "cell_type": "markdown",
   "metadata": {},
   "source": [
    "Now, we train a model, let's just do KNN, no time to think!"
   ]
  },
  {
   "cell_type": "code",
   "execution_count": 3,
   "metadata": {
    "collapsed": false
   },
   "outputs": [
    {
     "name": "stderr",
     "output_type": "stream",
     "text": [
      "/Library/Python/2.7/site-packages/IPython/kernel/__main__.py:6: DataConversionWarning: A column-vector y was passed when a 1d array was expected. Please change the shape of y to (n_samples, ), for example using ravel().\n"
     ]
    }
   ],
   "source": [
    "# to make this faster, just use the first 1000\n",
    "y_train, X_train = y[:1000], X[:1000, :]\n",
    "\n",
    "kn = KNeighborsClassifier(n_neighbors=1)\n",
    "\n",
    "kn.fit(X_train, y_train)\n",
    "\n",
    "# here's what we need to send back to Kaggle\n",
    "preds = kn.predict(X_test)"
   ]
  },
  {
   "cell_type": "markdown",
   "metadata": {},
   "source": [
    "Now we need to save the output to a textfile, and upload the results to kaggle!\n",
    "\n",
    "Read the data page to make you submission the right format:\n",
    "\n",
    "https://www.kaggle.com/c/digit-recognizer/data"
   ]
  },
  {
   "cell_type": "code",
   "execution_count": 7,
   "metadata": {
    "collapsed": false
   },
   "outputs": [
    {
     "name": "stdout",
     "output_type": "stream",
     "text": [
      "28000\n"
     ]
    }
   ],
   "source": [
    "test_lab_f = open(\"/Users/dancsi/Downloads/test_labeled.csv\", \"w\") # you will need to edit this directory\n",
    "\n",
    "idx = 0\n",
    "                 \n",
    "for pp in preds:\n",
    "    idx += 1\n",
    "    test_lab_f.write(str(int(pp)))\n",
    "    if idx < 28000:\n",
    "        test_lab_f.write(\"\\n\") # the if statement ensures that we don't end with a newline!\n",
    "    \n",
    "print idx\n",
    "\n",
    "test_lab_f.close()"
   ]
  },
  {
   "cell_type": "markdown",
   "metadata": {},
   "source": [
    "Well, that didn't work. I guess that is becuase the submission page lied. Here's the correct format (you can deduce this from the error message):"
   ]
  },
  {
   "cell_type": "code",
   "execution_count": 8,
   "metadata": {
    "collapsed": true
   },
   "outputs": [],
   "source": [
    "test_lab_f = open(\"/Users/dancsi/Downloads/test_labeled.csv\", \"w\") # you will need to edit this directory\n",
    "\n",
    "test_lab_f.write(\"ImageId,Label\")\n",
    "\n",
    "idx = 0\n",
    "                 \n",
    "for pp in preds:\n",
    "    idx += 1\n",
    "    test_lab_f.write(\"\\n\")\n",
    "    test_lab_f.write(str(idx) + \",\" + str(int(pp)))\n",
    "   \n",
    "\n",
    "test_lab_f.close()"
   ]
  },
  {
   "cell_type": "code",
   "execution_count": null,
   "metadata": {
    "collapsed": true
   },
   "outputs": [],
   "source": []
  }
 ],
 "metadata": {
  "kernelspec": {
   "display_name": "Python 2",
   "language": "python",
   "name": "python2"
  },
  "language_info": {
   "codemirror_mode": {
    "name": "ipython",
    "version": 2
   },
   "file_extension": ".py",
   "mimetype": "text/x-python",
   "name": "python",
   "nbconvert_exporter": "python",
   "pygments_lexer": "ipython2",
   "version": "2.7.10"
  }
 },
 "nbformat": 4,
 "nbformat_minor": 0
}
