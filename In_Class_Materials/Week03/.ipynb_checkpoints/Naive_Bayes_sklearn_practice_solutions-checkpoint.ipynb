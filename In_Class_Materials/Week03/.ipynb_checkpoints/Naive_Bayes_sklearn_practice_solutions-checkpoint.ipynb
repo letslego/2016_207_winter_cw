{
 "cells": [
  {
   "cell_type": "markdown",
   "metadata": {},
   "source": [
    "### Naive Bayes in Sklearn"
   ]
  },
  {
   "cell_type": "markdown",
   "metadata": {},
   "source": [
    "We will again use the iris data."
   ]
  },
  {
   "cell_type": "code",
   "execution_count": 2,
   "metadata": {
    "collapsed": false
   },
   "outputs": [],
   "source": [
    "# This tells matplotlib not to try opening a new window for each plot.\n",
    "%matplotlib inline\n",
    "\n",
    "import matplotlib.pyplot as plt\n",
    "import numpy as np\n",
    "from sklearn.datasets import load_iris\n",
    "from sklearn.naive_bayes import GaussianNB\n",
    "from sklearn.naive_bayes import BernoulliNB\n",
    "from sklearn.naive_bayes import MultinomialNB"
   ]
  },
  {
   "cell_type": "code",
   "execution_count": 3,
   "metadata": {
    "collapsed": false
   },
   "outputs": [
    {
     "name": "stdout",
     "output_type": "stream",
     "text": [
      "Iris target names: ['setosa' 'versicolor' 'virginica']\n",
      "Iris feature names: ['sepal length (cm)', 'sepal width (cm)', 'petal length (cm)', 'petal width (cm)']\n"
     ]
    }
   ],
   "source": [
    "# Load the data, which is included in sklearn.\n",
    "iris = load_iris()\n",
    "print 'Iris target names:', iris.target_names\n",
    "print 'Iris feature names:', iris.feature_names\n",
    "X, Y = iris.data, iris.target\n",
    "\n",
    "# Shuffle the data, but make sure that the features and accompanying labels stay in sync.\n",
    "np.random.seed(0)\n",
    "shuffle = np.random.permutation(np.arange(X.shape[0]))\n",
    "X, Y = X[shuffle], Y[shuffle]\n",
    "\n",
    "# Split into train and test.\n",
    "train_data, train_labels = X[:100], Y[:100]\n",
    "test_data, test_labels = X[100:], Y[100:]"
   ]
  },
  {
   "cell_type": "markdown",
   "metadata": {
    "collapsed": false
   },
   "source": [
    "Sklearn has three types of Naive Bayes: gaussian, beroulli, and multinomial.\n",
    "\n",
    "http://scikit-learn.org/stable/modules/generated/sklearn.naive_bayes.GaussianNB.html\n",
    "\n",
    "http://scikit-learn.org/stable/modules/generated/sklearn.naive_bayes.BernoulliNB.html\n",
    "\n",
    "http://scikit-learn.org/stable/modules/generated/sklearn.naive_bayes.MultinomialNB.html\n",
    "\n",
    "What is the difference between them? These are the assumed ditributional form of each component of P(X|Y); the distribution of each individual features.\n",
    "\n",
    "Try using each of these on the iris data, you will have to prepare the data for multinomial and bernoulli."
   ]
  },
  {
   "cell_type": "code",
   "execution_count": 12,
   "metadata": {
    "collapsed": false
   },
   "outputs": [
    {
     "name": "stdout",
     "output_type": "stream",
     "text": [
      "gaussian accuracy: 0.96\n",
      "bernoulli accuracy: 0.66\n",
      "multinomial accuracy: 0.82\n"
     ]
    }
   ],
   "source": [
    "gau = GaussianNB()\n",
    "gau.fit(train_data, train_labels)\n",
    "\n",
    "bern = BernoulliNB(binarize=0.9)\n",
    "bern.fit(train_data, train_labels)\n",
    "\n",
    "mult = MultinomialNB()\n",
    "# floor converts data into a discrete-like set\n",
    "mult.fit(np.floor(train_data), train_labels)\n",
    "\n",
    "print 'gaussian accuracy: %3.2f' %gau.score(test_data, test_labels)\n",
    "print 'bernoulli accuracy: %3.2f' %bern.score(test_data, test_labels)\n",
    "print 'multinomial accuracy: %3.2f' %mult.score(np.floor(test_data), test_labels)"
   ]
  },
  {
   "cell_type": "markdown",
   "metadata": {},
   "source": [
    "What choices did you make with manipulating the features above? Try tuning these choices, can you improve the accuracy?"
   ]
  },
  {
   "cell_type": "code",
   "execution_count": 24,
   "metadata": {
    "collapsed": false
   },
   "outputs": [
    {
     "name": "stdout",
     "output_type": "stream",
     "text": [
      "binarize: 1.0 bernoulli accuracy: 0.66\n",
      "binarize: 2.0 bernoulli accuracy: 0.88\n",
      "binarize: 3.0 bernoulli accuracy: 0.80\n",
      "binarize: 4.0 bernoulli accuracy: 0.66\n",
      "binarize: 5.0 bernoulli accuracy: 0.74\n",
      "binarize: 6.0 bernoulli accuracy: 0.62\n",
      "binarize: 7.0 bernoulli accuracy: 0.46\n",
      "binarize: 8.0 bernoulli accuracy: 0.28\n",
      "binarize: 9.0 bernoulli accuracy: 0.28\n"
     ]
    }
   ],
   "source": [
    "# lets play around with binarize in bernoulli\n",
    "\n",
    "for bin in [x / 1.0 for x in range(1, 10)]:\n",
    "    bern = BernoulliNB(binarize=bin)\n",
    "    bern.fit(train_data, train_labels)\n",
    "    print 'binarize:', bin, 'bernoulli accuracy: %3.2f' %bern.score(test_data, test_labels)"
   ]
  },
  {
   "cell_type": "markdown",
   "metadata": {},
   "source": [
    "Investigate what effect alpha has on the bernoulli and multinomial classifiers. What happens when alpha is very high? Is there an optimal value?\n",
    "\n",
    "Does increasing alpha add bias or variance to our estimator?"
   ]
  },
  {
   "cell_type": "code",
   "execution_count": 21,
   "metadata": {
    "collapsed": false
   },
   "outputs": [
    {
     "name": "stdout",
     "output_type": "stream",
     "text": [
      "alpha: 1 bernoulli accuracy: 0.34;\n",
      "alpha: 2 bernoulli accuracy: 0.34;\n",
      "alpha: 3 bernoulli accuracy: 0.34;\n",
      "alpha: 4 bernoulli accuracy: 0.34;\n",
      "alpha: 5 bernoulli accuracy: 0.34;\n",
      "alpha: 6 bernoulli accuracy: 0.34;\n",
      "alpha: 7 bernoulli accuracy: 0.34;\n",
      "alpha: 8 bernoulli accuracy: 0.34;\n",
      "alpha: 9 bernoulli accuracy: 0.34;\n",
      "alpha: 10 bernoulli accuracy: 0.34;\n",
      "alpha: 11 bernoulli accuracy: 0.34;\n",
      "alpha: 12 bernoulli accuracy: 0.34;\n",
      "alpha: 13 bernoulli accuracy: 0.34;\n",
      "alpha: 14 bernoulli accuracy: 0.34;\n",
      "alpha: 15 bernoulli accuracy: 0.34;\n",
      "alpha: 16 bernoulli accuracy: 0.34;\n",
      "alpha: 17 bernoulli accuracy: 0.34;\n",
      "alpha: 18 bernoulli accuracy: 0.34;\n",
      "alpha: 19 bernoulli accuracy: 0.28;\n",
      "alpha: 20 bernoulli accuracy: 0.28;\n",
      "alpha: 21 bernoulli accuracy: 0.28;\n",
      "alpha: 22 bernoulli accuracy: 0.28;\n",
      "alpha: 23 bernoulli accuracy: 0.28;\n",
      "alpha: 24 bernoulli accuracy: 0.28;\n",
      "alpha: 25 bernoulli accuracy: 0.28;\n",
      "alpha: 26 bernoulli accuracy: 0.28;\n",
      "alpha: 27 bernoulli accuracy: 0.28;\n",
      "alpha: 28 bernoulli accuracy: 0.28;\n",
      "alpha: 29 bernoulli accuracy: 0.28;\n",
      "alpha: 30 bernoulli accuracy: 0.28;\n",
      "alpha: 31 bernoulli accuracy: 0.28;\n",
      "alpha: 32 bernoulli accuracy: 0.28;\n",
      "alpha: 33 bernoulli accuracy: 0.28;\n",
      "alpha: 34 bernoulli accuracy: 0.28;\n",
      "alpha: 35 bernoulli accuracy: 0.28;\n",
      "alpha: 36 bernoulli accuracy: 0.28;\n",
      "alpha: 37 bernoulli accuracy: 0.28;\n",
      "alpha: 38 bernoulli accuracy: 0.28;\n",
      "alpha: 39 bernoulli accuracy: 0.28;\n",
      "alpha: 40 bernoulli accuracy: 0.28;\n",
      "alpha: 41 bernoulli accuracy: 0.28;\n",
      "alpha: 42 bernoulli accuracy: 0.28;\n",
      "alpha: 43 bernoulli accuracy: 0.28;\n",
      "alpha: 44 bernoulli accuracy: 0.28;\n",
      "alpha: 45 bernoulli accuracy: 0.28;\n",
      "alpha: 46 bernoulli accuracy: 0.28;\n",
      "alpha: 47 bernoulli accuracy: 0.28;\n",
      "alpha: 48 bernoulli accuracy: 0.28;\n",
      "alpha: 49 bernoulli accuracy: 0.28;\n",
      "alpha: 50 bernoulli accuracy: 0.28;\n",
      "alpha: 51 bernoulli accuracy: 0.28;\n",
      "alpha: 52 bernoulli accuracy: 0.28;\n",
      "alpha: 53 bernoulli accuracy: 0.28;\n",
      "alpha: 54 bernoulli accuracy: 0.28;\n",
      "alpha: 55 bernoulli accuracy: 0.28;\n",
      "alpha: 56 bernoulli accuracy: 0.28;\n",
      "alpha: 57 bernoulli accuracy: 0.28;\n",
      "alpha: 58 bernoulli accuracy: 0.28;\n",
      "alpha: 59 bernoulli accuracy: 0.28;\n",
      "alpha: 60 bernoulli accuracy: 0.28;\n",
      "alpha: 61 bernoulli accuracy: 0.28;\n",
      "alpha: 62 bernoulli accuracy: 0.28;\n",
      "alpha: 63 bernoulli accuracy: 0.28;\n",
      "alpha: 64 bernoulli accuracy: 0.28;\n",
      "alpha: 65 bernoulli accuracy: 0.28;\n",
      "alpha: 66 bernoulli accuracy: 0.28;\n",
      "alpha: 67 bernoulli accuracy: 0.28;\n",
      "alpha: 68 bernoulli accuracy: 0.28;\n",
      "alpha: 69 bernoulli accuracy: 0.28;\n",
      "alpha: 70 bernoulli accuracy: 0.28;\n",
      "alpha: 71 bernoulli accuracy: 0.28;\n",
      "alpha: 72 bernoulli accuracy: 0.28;\n",
      "alpha: 73 bernoulli accuracy: 0.28;\n",
      "alpha: 74 bernoulli accuracy: 0.28;\n",
      "alpha: 75 bernoulli accuracy: 0.28;\n",
      "alpha: 76 bernoulli accuracy: 0.28;\n",
      "alpha: 77 bernoulli accuracy: 0.28;\n",
      "alpha: 78 bernoulli accuracy: 0.28;\n",
      "alpha: 79 bernoulli accuracy: 0.28;\n",
      "alpha: 80 bernoulli accuracy: 0.28;\n",
      "alpha: 81 bernoulli accuracy: 0.28;\n",
      "alpha: 82 bernoulli accuracy: 0.28;\n",
      "alpha: 83 bernoulli accuracy: 0.28;\n",
      "alpha: 84 bernoulli accuracy: 0.28;\n",
      "alpha: 85 bernoulli accuracy: 0.28;\n",
      "alpha: 86 bernoulli accuracy: 0.28;\n",
      "alpha: 87 bernoulli accuracy: 0.28;\n",
      "alpha: 88 bernoulli accuracy: 0.28;\n",
      "alpha: 89 bernoulli accuracy: 0.28;\n",
      "alpha: 90 bernoulli accuracy: 0.28;\n",
      "alpha: 91 bernoulli accuracy: 0.28;\n",
      "alpha: 92 bernoulli accuracy: 0.28;\n",
      "alpha: 93 bernoulli accuracy: 0.28;\n",
      "alpha: 94 bernoulli accuracy: 0.28;\n",
      "alpha: 95 bernoulli accuracy: 0.28;\n",
      "alpha: 96 bernoulli accuracy: 0.28;\n",
      "alpha: 97 bernoulli accuracy: 0.28;\n",
      "alpha: 98 bernoulli accuracy: 0.28;\n",
      "alpha: 99 bernoulli accuracy: 0.28;\n"
     ]
    }
   ],
   "source": [
    "# alpha is a biasing effect, e.g.\n",
    "\n",
    "for aa in [x for x in range(1, 100)]:\n",
    "    bern = BernoulliNB(binarize=0.1, alpha=aa)\n",
    "    bern.fit(train_data, train_labels)\n",
    "    \n",
    "    print 'alpha:', aa, 'bernoulli accuracy: %3.2f;' %bern.score(test_data, test_labels)\n"
   ]
  }
 ],
 "metadata": {
  "kernelspec": {
   "display_name": "Python 2",
   "language": "python",
   "name": "python2"
  },
  "language_info": {
   "codemirror_mode": {
    "name": "ipython",
    "version": 2
   },
   "file_extension": ".py",
   "mimetype": "text/x-python",
   "name": "python",
   "nbconvert_exporter": "python",
   "pygments_lexer": "ipython2",
   "version": "2.7.11"
  }
 },
 "nbformat": 4,
 "nbformat_minor": 0
}
